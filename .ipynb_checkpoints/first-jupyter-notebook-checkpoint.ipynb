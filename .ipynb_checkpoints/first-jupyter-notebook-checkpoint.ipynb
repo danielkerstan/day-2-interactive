{
 "cells": [
  {
   "cell_type": "markdown",
   "id": "8d014f92",
   "metadata": {},
   "source": [
    "## Introduction to Jupyter notebooks\n",
    "\n",
    "### Daniel Kerstan\n",
    "\n",
    "##### EDS 212\n",
    "\n",
    "- bulletpoints\n",
    "- yay\n"
   ]
  },
  {
   "cell_type": "code",
   "execution_count": 1,
   "id": "f1ccfa1e",
   "metadata": {},
   "outputs": [],
   "source": [
    "teddy = 10"
   ]
  },
  {
   "cell_type": "code",
   "execution_count": 2,
   "id": "33329067",
   "metadata": {},
   "outputs": [
    {
     "data": {
      "text/plain": [
       "10"
      ]
     },
     "execution_count": 2,
     "metadata": {},
     "output_type": "execute_result"
    }
   ],
   "source": [
    "teddy"
   ]
  },
  {
   "cell_type": "code",
   "execution_count": 3,
   "id": "31c2e4c8",
   "metadata": {},
   "outputs": [
    {
     "data": {
      "text/plain": [
       "30"
      ]
     },
     "execution_count": 3,
     "metadata": {},
     "output_type": "execute_result"
    }
   ],
   "source": [
    "teddy + 20"
   ]
  },
  {
   "cell_type": "code",
   "execution_count": 4,
   "id": "bd380ad0",
   "metadata": {},
   "outputs": [],
   "source": [
    "def my_sum(apples, bananas):\n",
    "    fruit_total = apples + bananas\n",
    "    print(fruit_total)"
   ]
  },
  {
   "cell_type": "code",
   "execution_count": 5,
   "id": "0d3ccbf2",
   "metadata": {},
   "outputs": [
    {
     "name": "stdout",
     "output_type": "stream",
     "text": [
      "32\n"
     ]
    }
   ],
   "source": [
    "my_sum(apples = 14, bananas = 18)"
   ]
  },
  {
   "cell_type": "code",
   "execution_count": null,
   "id": "3ceb1cf5",
   "metadata": {},
   "outputs": [],
   "source": []
  }
 ],
 "metadata": {
  "kernelspec": {
   "display_name": "Python 3",
   "language": "python",
   "name": "python3"
  },
  "language_info": {
   "codemirror_mode": {
    "name": "ipython",
    "version": 3
   },
   "file_extension": ".py",
   "mimetype": "text/x-python",
   "name": "python",
   "nbconvert_exporter": "python",
   "pygments_lexer": "ipython3",
   "version": "3.8.8"
  }
 },
 "nbformat": 4,
 "nbformat_minor": 5
}
